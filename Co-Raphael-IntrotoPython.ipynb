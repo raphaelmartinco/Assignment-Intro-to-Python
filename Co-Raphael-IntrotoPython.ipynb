{
 "cells": [
  {
   "cell_type": "markdown",
   "id": "79cac736",
   "metadata": {},
   "source": [
    "ID Number: 205833\n",
    "\n",
    "Surname: Co\n",
    "\n",
    "Year and Course: 2 BS ITE"
   ]
  },
  {
   "cell_type": "code",
   "execution_count": 2,
   "id": "ddf3e723",
   "metadata": {
    "scrolled": true
   },
   "outputs": [
    {
     "name": "stdout",
     "output_type": "stream",
     "text": [
      "Enter the first number: 1\n",
      "Enter the second number: 2\n",
      "Enter the third number: 3\n",
      "the average is: 2.0\n"
     ]
    }
   ],
   "source": [
    "firstnum = float(input('Enter the first number: '))\n",
    "secondnum = float(input('Enter the second number: '))\n",
    "thirdnum = float(input('Enter the third number: '))\n",
    "average = float((firstnum + secondnum + thirdnum)/3)\n",
    "\n",
    "print('the average is:', average)\n"
   ]
  },
  {
   "cell_type": "code",
   "execution_count": null,
   "id": "e1509f3e",
   "metadata": {},
   "outputs": [],
   "source": []
  }
 ],
 "metadata": {
  "kernelspec": {
   "display_name": "Python 3 (ipykernel)",
   "language": "python",
   "name": "python3"
  },
  "language_info": {
   "codemirror_mode": {
    "name": "ipython",
    "version": 3
   },
   "file_extension": ".py",
   "mimetype": "text/x-python",
   "name": "python",
   "nbconvert_exporter": "python",
   "pygments_lexer": "ipython3",
   "version": "3.8.8"
  }
 },
 "nbformat": 4,
 "nbformat_minor": 5
}
